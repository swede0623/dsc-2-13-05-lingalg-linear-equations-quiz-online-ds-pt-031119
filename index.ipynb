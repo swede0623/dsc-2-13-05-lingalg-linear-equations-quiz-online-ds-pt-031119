{
 "cells": [
  {
   "cell_type": "markdown",
   "metadata": {},
   "source": [
    "# Systems of Linear Equations - Quiz\n",
    "\n",
    "## Introduction\n",
    "Following scenarios present problems that can be solved as system of equations, while performing substitutions and eliminations as we saw in the previous lesson. \n",
    "\n",
    "* Solve these problems by hand, showing all the steps to work out the unknown variable values \n",
    "* Verify your answers by showing the calculated values satisfy all equations\n",
    "\n",
    "## Objectives\n",
    "You will be able to:\n",
    "* Describe a system of linear equations for solving simple analytical problems\n",
    "* Solve a system of equations using elimination and substitution\n",
    "\n",
    "## Exercise 1\n",
    "#### Joe paid 12 dollars for 4 cups of coffee and 4 cups of tea. 3 cups of coffee cost as much as 2 cups of tea. \n",
    "\n",
    "#### What would be the total cost of 5 cups of coffee and 5 cups of tea ?"
   ]
  },
  {
   "cell_type": "markdown",
   "metadata": {},
   "source": [
    "## Solution\n",
    "\n",
    "> Let x be the unit price of coffee and y be the unit price of tea"
   ]
  },
  {
   "cell_type": "markdown",
   "metadata": {},
   "source": [
    "4c + 4t = 12\n",
    "\n",
    "3c = 2t\n",
    "c = 2/3t\n",
    "\n",
    "4(2/3t) + 4t = 12\n",
    "8/3t + 12/3t = 12\n",
    "20/3t = 12\n",
    "t = 12/(20/3)\n",
    "t = 12*3/20\n",
    "t = 36/20\n",
    "t = 18/10 = 9/5\n",
    "\n",
    "3c = 2(9/5)\n",
    "c = 18/5 / 3 = 18/15 = 6/5\n",
    "\n",
    "5c + 5t = ?\n",
    "5(6/5) + 5(9/5) = 5 + 9 = 14\n",
    "\n",
    "3(6/5) = 2(9/5)\n",
    "18/5 = 18/5"
   ]
  },
  {
   "cell_type": "markdown",
   "metadata": {},
   "source": [
    "## Exercise 2\n",
    "\n",
    "#### Jim has more money than Bob.  If Jim gave Bob 20 dollars , they would have the same amount.  While if Bob gave Jim 22 dollars, Jim would then have twice as much as Bob. \n",
    "\n",
    "#### How much does each one actually have?"
   ]
  },
  {
   "cell_type": "markdown",
   "metadata": {},
   "source": [
    "## Solution\n",
    "> Let x be the amount of money that Jim has and y be the amount that Bob has."
   ]
  },
  {
   "cell_type": "markdown",
   "metadata": {},
   "source": [
    "# Your solution here \n",
    "\n",
    "J = B+20\n",
    "J+22 = 2B\n",
    "\n",
    "(B+20)+22 = 2B\n",
    "B+44 = 2B\n",
    "B=44\n",
    "\n",
    "J = 44+20 = 64\n",
    "\n",
    "64+22 = 2(44)\n",
    "88 = 88"
   ]
  },
  {
   "cell_type": "markdown",
   "metadata": {},
   "source": [
    "## Exercise 3\n",
    "\n",
    "#### Mia has 30 coins, consisting of quarters (25 cents) and dimes (10 cents), which total to the amount 5.70 dollars.  \n",
    "#### How many of each does she have?"
   ]
  },
  {
   "cell_type": "markdown",
   "metadata": {},
   "source": [
    "25q + 10d = 570\n",
    "q+d = 30\n",
    "q = 30-d\n",
    "25(30-d) + 10d = 570\n",
    "750 -25d + 10d = 570\n",
    "750 -15d = 570\n",
    "-15d = -180\n",
    "d = 180/15 = 12\n",
    "\n",
    "q+12 = 30\n",
    "q = 18\n",
    "\n",
    "25(18) + 10(12) = 570\n",
    "450 + 120 = 570\n",
    "570 = 570"
   ]
  },
  {
   "cell_type": "code",
   "execution_count": 1,
   "metadata": {
    "scrolled": true
   },
   "outputs": [
    {
     "data": {
      "text/plain": [
       "12.0"
      ]
     },
     "execution_count": 1,
     "metadata": {},
     "output_type": "execute_result"
    }
   ],
   "source": [
    "180/15"
   ]
  },
  {
   "cell_type": "code",
   "execution_count": 2,
   "metadata": {},
   "outputs": [
    {
     "data": {
      "text/plain": [
       "450"
      ]
     },
     "execution_count": 2,
     "metadata": {},
     "output_type": "execute_result"
    }
   ],
   "source": [
    "25*18"
   ]
  },
  {
   "cell_type": "markdown",
   "metadata": {},
   "source": [
    "## Level up - Optional \n",
    "For more pratice with linear equations, Visit following links for more complex equations and online answers verification:\n",
    "\n",
    "* https://www.transum.org/software/SW/Starter_of_the_day/Students/Simultaneous_Equations.asp?Level=6\n",
    "* https://www.transum.org/software/SW/Starter_of_the_day/Students/Simultaneous_Equations.asp?Level=7"
   ]
  },
  {
   "cell_type": "markdown",
   "metadata": {},
   "source": [
    "3x + y/2 = 24\n",
    "x + y/3 = 10\n",
    "\n",
    "3x + y = 30\n",
    "y = 30-3x\n",
    "\n",
    "3x + (30-3x)/2 = 24\n",
    "3x + 15 - 3/2x = 24\n",
    "3/2x = 9\n",
    "x = 9*(2/3) = 6\n",
    "y = 30-3(6) = 12\n",
    "\n",
    "18 + 6 = 24\n",
    "6 + 4 + 10"
   ]
  },
  {
   "cell_type": "markdown",
   "metadata": {},
   "source": [
    "## Summary\n",
    "In this lesson, we saw how to solve linear equations by hand to find the co-efficient values. We shall now move forward to have a deeper look into vectors and matrices and how Python and Numpy can help us solve more complex equations in an analytical context. "
   ]
  }
 ],
 "metadata": {
  "kernelspec": {
   "display_name": "Python 3",
   "language": "python",
   "name": "python3"
  },
  "language_info": {
   "codemirror_mode": {
    "name": "ipython",
    "version": 3
   },
   "file_extension": ".py",
   "mimetype": "text/x-python",
   "name": "python",
   "nbconvert_exporter": "python",
   "pygments_lexer": "ipython3",
   "version": "3.6.8"
  }
 },
 "nbformat": 4,
 "nbformat_minor": 2
}
